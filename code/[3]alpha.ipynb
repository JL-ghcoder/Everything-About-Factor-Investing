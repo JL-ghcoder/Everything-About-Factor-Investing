{
 "cells": [
  {
   "cell_type": "markdown",
   "metadata": {},
   "source": [
    "# 利用alpha来无风险套利"
   ]
  },
  {
   "cell_type": "markdown",
   "metadata": {},
   "source": [
    "## 1. alpha如何创造套利机会"
   ]
  },
  {
   "cell_type": "code",
   "execution_count": 9,
   "metadata": {},
   "outputs": [],
   "source": [
    "import numpy as np\n",
    "import statsmodels.api as sm\n",
    "import pandas as pd"
   ]
  },
  {
   "cell_type": "code",
   "execution_count": 10,
   "metadata": {},
   "outputs": [],
   "source": [
    "np.random.seed(0) \n",
    "\n",
    "# 生成模拟市场指数收益\n",
    "market_returns = np.random.normal(0.01, 0.05, 100)  # 假设市场平均每天有1%的收益，标准差5%\n",
    "\n",
    "# 生成两个资产的returns数据\n",
    "# 资产A有一些市场影响和一些alpha\n",
    "A_returns = 0.1 + 1.2*market_returns + np.random.normal(0, 0.03, 100) \n",
    "# 这个0.1就可以理解为超额回报的部分，正是因为有它的存在创造出了无风险套利机会\n",
    "\n",
    "# 资产B主要受市场影响，几乎没有alpha\n",
    "B_returns = 0.01 + 1.0*market_returns + np.random.normal(0, 0.03, 100)\n",
    "\n",
    "data = pd.DataFrame({\n",
    "    'Market': market_returns,\n",
    "    'Asset_A': A_returns,\n",
    "    'Asset_B': B_returns\n",
    "})"
   ]
  },
  {
   "cell_type": "code",
   "execution_count": 11,
   "metadata": {},
   "outputs": [
    {
     "name": "stdout",
     "output_type": "stream",
     "text": [
      "Asset A:\n",
      "                            OLS Regression Results                            \n",
      "==============================================================================\n",
      "Dep. Variable:                Asset_A   R-squared:                       0.811\n",
      "Model:                            OLS   Adj. R-squared:                  0.809\n",
      "Method:                 Least Squares   F-statistic:                     421.1\n",
      "Date:                Tue, 15 Oct 2024   Prob (F-statistic):           2.96e-37\n",
      "Time:                        17:15:22   Log-Likelihood:                 205.98\n",
      "No. Observations:                 100   AIC:                            -408.0\n",
      "Df Residuals:                      98   BIC:                            -402.8\n",
      "Df Model:                           1                                         \n",
      "Covariance Type:            nonrobust                                         \n",
      "==============================================================================\n",
      "                 coef    std err          t      P>|t|      [0.025      0.975]\n",
      "------------------------------------------------------------------------------\n",
      "const          0.1016      0.003     31.565      0.000       0.095       0.108\n",
      "Market         1.2688      0.062     20.521      0.000       1.146       1.392\n",
      "==============================================================================\n",
      "Omnibus:                        5.184   Durbin-Watson:                   1.995\n",
      "Prob(Omnibus):                  0.075   Jarque-Bera (JB):                3.000\n",
      "Skew:                           0.210   Prob(JB):                        0.223\n",
      "Kurtosis:                       2.262   Cond. No.                         19.8\n",
      "==============================================================================\n",
      "\n",
      "Notes:\n",
      "[1] Standard Errors assume that the covariance matrix of the errors is correctly specified.\n",
      "\n",
      "Asset B:\n",
      "                            OLS Regression Results                            \n",
      "==============================================================================\n",
      "Dep. Variable:                Asset_B   R-squared:                       0.773\n",
      "Model:                            OLS   Adj. R-squared:                  0.771\n",
      "Method:                 Least Squares   F-statistic:                     333.9\n",
      "Date:                Tue, 15 Oct 2024   Prob (F-statistic):           2.48e-33\n",
      "Time:                        17:15:22   Log-Likelihood:                 213.97\n",
      "No. Observations:                 100   AIC:                            -423.9\n",
      "Df Residuals:                      98   BIC:                            -418.7\n",
      "Df Model:                           1                                         \n",
      "Covariance Type:            nonrobust                                         \n",
      "==============================================================================\n",
      "                 coef    std err          t      P>|t|      [0.025      0.975]\n",
      "------------------------------------------------------------------------------\n",
      "const          0.0077      0.003      2.579      0.011       0.002       0.014\n",
      "Market         1.0431      0.057     18.274      0.000       0.930       1.156\n",
      "==============================================================================\n",
      "Omnibus:                        0.909   Durbin-Watson:                   2.398\n",
      "Prob(Omnibus):                  0.635   Jarque-Bera (JB):                0.446\n",
      "Skew:                          -0.072   Prob(JB):                        0.800\n",
      "Kurtosis:                       3.294   Cond. No.                         19.8\n",
      "==============================================================================\n",
      "\n",
      "Notes:\n",
      "[1] Standard Errors assume that the covariance matrix of the errors is correctly specified.\n"
     ]
    }
   ],
   "source": [
    "# 利用线性回归找到alpha\n",
    "X = sm.add_constant(data['Market'])  # 添加常数项\n",
    "y_A = data['Asset_A']\n",
    "\n",
    "model_A = sm.OLS(y_A, X)\n",
    "results_A = model_A.fit()\n",
    "print(\"Asset A:\")\n",
    "print(results_A.summary())\n",
    "\n",
    "y_B = data['Asset_B']\n",
    "model_B = sm.OLS(y_B, X)\n",
    "results_B = model_B.fit()\n",
    "print(\"\\nAsset B:\")\n",
    "print(results_B.summary())"
   ]
  },
  {
   "cell_type": "code",
   "execution_count": 12,
   "metadata": {},
   "outputs": [
    {
     "name": "stdout",
     "output_type": "stream",
     "text": [
      "预期每日无风险套利收益: 9.24%\n"
     ]
    }
   ],
   "source": [
    "# 策略实施：每天做多1单位的资产A，做空1.2单位的资产B\n",
    "# 假设我们投资100天\n",
    "portfolio_returns = results_A.params['const'] - 1.2 * results_B.params['const']\n",
    "\n",
    "print(f\"预期每日无风险套利收益: {portfolio_returns*100:.2f}%\")"
   ]
  }
 ],
 "metadata": {
  "kernelspec": {
   "display_name": "py310",
   "language": "python",
   "name": "python3"
  },
  "language_info": {
   "codemirror_mode": {
    "name": "ipython",
    "version": 3
   },
   "file_extension": ".py",
   "mimetype": "text/x-python",
   "name": "python",
   "nbconvert_exporter": "python",
   "pygments_lexer": "ipython3",
   "version": "3.10.15"
  }
 },
 "nbformat": 4,
 "nbformat_minor": 2
}
