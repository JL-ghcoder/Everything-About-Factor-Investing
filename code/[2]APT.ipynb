{
 "cells": [
  {
   "cell_type": "markdown",
   "metadata": {},
   "source": [
    "# 对APT模型的简单验证"
   ]
  },
  {
   "cell_type": "code",
   "execution_count": 1,
   "metadata": {},
   "outputs": [
    {
     "ename": "NameError",
     "evalue": "name 'os' is not defined",
     "output_type": "error",
     "traceback": [
      "\u001b[0;31m---------------------------------------------------------------------------\u001b[0m",
      "\u001b[0;31mNameError\u001b[0m                                 Traceback (most recent call last)",
      "Cell \u001b[0;32mIn[1], line 7\u001b[0m\n\u001b[1;32m      4\u001b[0m \u001b[38;5;28;01mfrom\u001b[39;00m \u001b[38;5;21;01mdotenv\u001b[39;00m \u001b[38;5;28;01mimport\u001b[39;00m load_dotenv\n\u001b[1;32m      5\u001b[0m load_dotenv()\n\u001b[0;32m----> 7\u001b[0m rqdata_username \u001b[38;5;241m=\u001b[39m \u001b[43mos\u001b[49m\u001b[38;5;241m.\u001b[39mgetenv(\u001b[38;5;124m'\u001b[39m\u001b[38;5;124mRQDATA_USERNAME\u001b[39m\u001b[38;5;124m'\u001b[39m)\n\u001b[1;32m      8\u001b[0m rqdata_password \u001b[38;5;241m=\u001b[39m os\u001b[38;5;241m.\u001b[39mgetenv(\u001b[38;5;124m'\u001b[39m\u001b[38;5;124mRQDATA_PASSWORD\u001b[39m\u001b[38;5;124m'\u001b[39m)\n\u001b[1;32m      9\u001b[0m rq\u001b[38;5;241m.\u001b[39minit(rqdata_username, rqdata_password)\n",
      "\u001b[0;31mNameError\u001b[0m: name 'os' is not defined"
     ]
    }
   ],
   "source": [
    "import pandas as pd\n",
    "import rqdatac as rq\n",
    "import os\n",
    "\n",
    "from dotenv import load_dotenv\n",
    "load_dotenv()\n",
    "\n",
    "rqdata_username = os.getenv('RQDATA_USERNAME')\n",
    "rqdata_password = os.getenv('RQDATA_PASSWORD')\n",
    "rq.init(rqdata_username, rqdata_password)"
   ]
  },
  {
   "cell_type": "code",
   "execution_count": 15,
   "metadata": {},
   "outputs": [],
   "source": [
    "# 设置时间范围\n",
    "start_date = '2020-01-01'\n",
    "end_date = '2023-01-01'\n",
    "\n",
    "# 获取资产和因子的价格数据\n",
    "# 目标资产\n",
    "asset_prices = rq.get_price('000651.XSHE', start_date=start_date, end_date=end_date, frequency='1d', fields='close')\n",
    "\n",
    "# 随便选择三个因子：市场整体指数、10年国债利率(利率因子)，以及一个行业指数(行业因子)。\n",
    "market_prices = rq.get_price('000001.XSHG', start_date=start_date, end_date=end_date, frequency='1d', fields='close')\n",
    "industry_prices = rq.get_price('399006.XSHE', start_date=start_date, end_date=end_date, frequency='1d', fields='close')  # 例如使用创业板指数作为示例行业因子\n",
    "interest_rates = rq.get_yield_curve(start_date, end_date, tenor='10Y')\n"
   ]
  },
  {
   "cell_type": "code",
   "execution_count": 16,
   "metadata": {},
   "outputs": [],
   "source": [
    "# 计算收益率\n",
    "# 需要注意：根据CAPM模型，标度预期收益率与市场投资组合预期收益率相关联，这是我们计算收益率的原因\n",
    "# 但是interest_rates作为国债利率本身就是一个直接影响资产定价的因子，所以这里不需要再计算它的收益率\n",
    "\n",
    "asset_returns = asset_prices.pct_change().dropna()\n",
    "market_returns = market_prices.pct_change().dropna()\n",
    "industry_returns = industry_prices.pct_change().dropna()"
   ]
  },
  {
   "cell_type": "code",
   "execution_count": 17,
   "metadata": {},
   "outputs": [],
   "source": [
    "# 数据整理\n",
    "asset_returns = asset_returns.reset_index()\n",
    "asset_returns.drop(columns=['order_book_id'], inplace=True)\n",
    "\n",
    "market_returns = market_returns.reset_index()\n",
    "market_returns.drop(columns=['order_book_id'], inplace=True)\n",
    "\n",
    "industry_returns = industry_returns.reset_index()\n",
    "industry_returns.drop(columns=['order_book_id'], inplace=True)\n",
    "\n",
    "interest_rates = interest_rates.reset_index()\n",
    "interest_rates.rename(columns={'trading_date': 'date', '10Y': 'close'}, inplace=True)"
   ]
  },
  {
   "cell_type": "code",
   "execution_count": 18,
   "metadata": {},
   "outputs": [],
   "source": [
    "asset_returns.set_index('date', inplace=True)\n",
    "market_returns.set_index('date', inplace=True)\n",
    "industry_returns.set_index('date', inplace=True)\n",
    "interest_rates.set_index('date', inplace=True)"
   ]
  },
  {
   "cell_type": "code",
   "execution_count": 24,
   "metadata": {},
   "outputs": [
    {
     "data": {
      "text/html": [
       "<div>\n",
       "<style scoped>\n",
       "    .dataframe tbody tr th:only-of-type {\n",
       "        vertical-align: middle;\n",
       "    }\n",
       "\n",
       "    .dataframe tbody tr th {\n",
       "        vertical-align: top;\n",
       "    }\n",
       "\n",
       "    .dataframe thead th {\n",
       "        text-align: right;\n",
       "    }\n",
       "</style>\n",
       "<table border=\"1\" class=\"dataframe\">\n",
       "  <thead>\n",
       "    <tr style=\"text-align: right;\">\n",
       "      <th></th>\n",
       "      <th>asset_returns</th>\n",
       "      <th>market_returns</th>\n",
       "      <th>industry_returns</th>\n",
       "      <th>interest_rates</th>\n",
       "    </tr>\n",
       "    <tr>\n",
       "      <th>date</th>\n",
       "      <th></th>\n",
       "      <th></th>\n",
       "      <th></th>\n",
       "      <th></th>\n",
       "    </tr>\n",
       "  </thead>\n",
       "  <tbody>\n",
       "    <tr>\n",
       "      <th>2020-01-03</th>\n",
       "      <td>-0.011782</td>\n",
       "      <td>-0.000458</td>\n",
       "      <td>0.001784</td>\n",
       "      <td>0.031428</td>\n",
       "    </tr>\n",
       "    <tr>\n",
       "      <th>2020-01-06</th>\n",
       "      <td>-0.018183</td>\n",
       "      <td>-0.000122</td>\n",
       "      <td>0.013022</td>\n",
       "      <td>0.031352</td>\n",
       "    </tr>\n",
       "    <tr>\n",
       "      <th>2020-01-07</th>\n",
       "      <td>0.021858</td>\n",
       "      <td>0.006938</td>\n",
       "      <td>0.017900</td>\n",
       "      <td>0.031379</td>\n",
       "    </tr>\n",
       "    <tr>\n",
       "      <th>2020-01-08</th>\n",
       "      <td>0.021984</td>\n",
       "      <td>-0.012210</td>\n",
       "      <td>-0.016118</td>\n",
       "      <td>0.031337</td>\n",
       "    </tr>\n",
       "    <tr>\n",
       "      <th>2020-01-09</th>\n",
       "      <td>0.015698</td>\n",
       "      <td>0.009126</td>\n",
       "      <td>0.027081</td>\n",
       "      <td>0.031184</td>\n",
       "    </tr>\n",
       "  </tbody>\n",
       "</table>\n",
       "</div>"
      ],
      "text/plain": [
       "            asset_returns  market_returns  industry_returns  interest_rates\n",
       "date                                                                       \n",
       "2020-01-03      -0.011782       -0.000458          0.001784        0.031428\n",
       "2020-01-06      -0.018183       -0.000122          0.013022        0.031352\n",
       "2020-01-07       0.021858        0.006938          0.017900        0.031379\n",
       "2020-01-08       0.021984       -0.012210         -0.016118        0.031337\n",
       "2020-01-09       0.015698        0.009126          0.027081        0.031184"
      ]
     },
     "execution_count": 24,
     "metadata": {},
     "output_type": "execute_result"
    }
   ],
   "source": [
    "# 数据对齐\n",
    "# data_aligned = pd.merge(asset_returns, market_returns, industry_returns, interest_rates, left_index=True, right_index=True, how='inner')\n",
    "data_aligned = pd.concat([asset_returns, market_returns, industry_returns, interest_rates], axis=1, join='inner')\n",
    "data_aligned.columns = ['asset_returns', 'market_returns', 'industry_returns', 'interest_rates']\n",
    "data_aligned.head()"
   ]
  },
  {
   "cell_type": "code",
   "execution_count": 25,
   "metadata": {},
   "outputs": [
    {
     "name": "stdout",
     "output_type": "stream",
     "text": [
      "                            OLS Regression Results                            \n",
      "==============================================================================\n",
      "Dep. Variable:          asset_returns   R-squared:                       0.294\n",
      "Model:                            OLS   Adj. R-squared:                  0.291\n",
      "Method:                 Least Squares   F-statistic:                     100.5\n",
      "Date:                Tue, 15 Oct 2024   Prob (F-statistic):           2.11e-54\n",
      "Time:                        13:12:12   Log-Likelihood:                 2010.7\n",
      "No. Observations:                 727   AIC:                            -4013.\n",
      "Df Residuals:                     723   BIC:                            -3995.\n",
      "Df Model:                           3                                         \n",
      "Covariance Type:            nonrobust                                         \n",
      "====================================================================================\n",
      "                       coef    std err          t      P>|t|      [0.025      0.975]\n",
      "------------------------------------------------------------------------------------\n",
      "const                0.0012      0.008      0.141      0.888      -0.015       0.017\n",
      "market_returns       1.0728      0.081     13.219      0.000       0.913       1.232\n",
      "industry_returns    -0.1632      0.050     -3.293      0.001      -0.260      -0.066\n",
      "interest_rates      -0.0601      0.284     -0.212      0.833      -0.618       0.498\n",
      "==============================================================================\n",
      "Omnibus:                      121.678   Durbin-Watson:                   1.946\n",
      "Prob(Omnibus):                  0.000   Jarque-Bera (JB):              329.694\n",
      "Skew:                           0.848   Prob(JB):                     2.56e-72\n",
      "Kurtosis:                       5.830   Cond. No.                         502.\n",
      "==============================================================================\n",
      "\n",
      "Notes:\n",
      "[1] Standard Errors assume that the covariance matrix of the errors is correctly specified.\n"
     ]
    }
   ],
   "source": [
    "import statsmodels.api as sm\n",
    "\n",
    "# 增加常数项以进行回归\n",
    "X = sm.add_constant(data_aligned[['market_returns', 'industry_returns', 'interest_rates']])\n",
    "y = data_aligned['asset_returns']\n",
    "\n",
    "# 执行线性回归\n",
    "model = sm.OLS(y, X)\n",
    "results = model.fit()\n",
    "print(results.summary())"
   ]
  },
  {
   "cell_type": "code",
   "execution_count": null,
   "metadata": {},
   "outputs": [],
   "source": [
    "# 在线性回归模型中，对于每个系数（包括常数项），我们进行的统计检验都是针对以下原假设（null hypothesis）：\n",
    "# H_0： 每个解释变量对应的系数等于零\n",
    "# 在这个前提下，p值代表着假设H0正确的概率，如果p值小于显著性水平（通常是0.05），我们就拒绝原假设，认为系数不等于零（也就相关）\n",
    "\n",
    "# 如果p值小于预定的显著性水平，我们拒绝原假设，认为该变量的系数显著不为零。这表明该变量对被解释变量（如资产回报）有显著的统计影响\n",
    "# 如果p值较大，未达到显著性水平，则不拒绝原假设，我们认为这个系数在统计上不显著，即该变量可能对被解释变量没有显著影响\n",
    "\n",
    "# 可以发现误差项-也就是截距部分p值为0.888，这是一个非常高的值，也就是说对于const变量，H0的假设是正确的(系数等于0)\n",
    "# 或者说在这个情况下的alpha是不存在的，因为它的系数没有显著的偏离0\n",
    "\n",
    "# 如果说alpha显著的偏离0，则代表了某个可以通过套利而获得超额收益的机会；它也同时说明由于某些原因，市场对该资产出现错误定价"
   ]
  }
 ],
 "metadata": {
  "kernelspec": {
   "display_name": "py310",
   "language": "python",
   "name": "python3"
  },
  "language_info": {
   "codemirror_mode": {
    "name": "ipython",
    "version": 3
   },
   "file_extension": ".py",
   "mimetype": "text/x-python",
   "name": "python",
   "nbconvert_exporter": "python",
   "pygments_lexer": "ipython3",
   "version": "3.10.15"
  }
 },
 "nbformat": 4,
 "nbformat_minor": 2
}
