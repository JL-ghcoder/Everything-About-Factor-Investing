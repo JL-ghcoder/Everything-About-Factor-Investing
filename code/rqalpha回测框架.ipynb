{
 "cells": [
  {
   "cell_type": "markdown",
   "metadata": {},
   "source": [
    "# 1. 如何运行策略"
   ]
  },
  {
   "cell_type": "markdown",
   "metadata": {},
   "source": [
    "rqalpha run -f ./rqalpha/examples/buy_and_hold.py -s 2016-06-01 -e 2016-12-01 --account stock 100000 --benchmark 000300.XSHG"
   ]
  },
  {
   "cell_type": "markdown",
   "metadata": {},
   "source": [
    "加上--plot可以画图"
   ]
  },
  {
   "cell_type": "markdown",
   "metadata": {},
   "source": [
    "如果想把回测的数据保存下来，可以通过-o参数将结果保存成pkl文件。"
   ]
  },
  {
   "cell_type": "markdown",
   "metadata": {},
   "source": [
    "# 2. 策略编写流程"
   ]
  },
  {
   "cell_type": "markdown",
   "metadata": {},
   "source": [
    "init() : 初始化方法，会在程序启动的时候执行\n",
    "handle_bar(): bar数据更新时会自动触发调用\n",
    "before_trading(): 会在每天策略交易开始前调用\n",
    "after_trading(): 会在每天交易结束后调用"
   ]
  },
  {
   "cell_type": "code",
   "execution_count": null,
   "metadata": {},
   "outputs": [],
   "source": [
    "# 在这个方法中编写任何的初始化逻辑。context对象将会在你的算法策略的任何方法之间做传递。\n",
    "import logging as logger\n",
    "\n",
    "def init(context):\n",
    "    # 在context中保存全局变量\n",
    "    context.s1 = \"000001.XSHE\"\n",
    "    # 实时打印日志\n",
    "    logger.info(\"RunInfo: {}\".format(context.run_info))\n",
    "\n",
    "# before_trading此函数会在每天策略交易开始前被调用，当天只会被调用一次\n",
    "def before_trading(context):\n",
    "    logger.info(\"开盘前执行before_trading函数\")\n",
    "\n",
    "# 你选择的证券的数据更新将会触发此段逻辑，例如日或分钟历史数据切片或者是实时数据切片更新\n",
    "def handle_bar(context, bar_dict):\n",
    "    logger.info(\"每一个Bar执行\")\n",
    "    logger.info(\"打印Bar数据：\")\n",
    "    # bar_dict 是一个字典类型变量，直接通过传 key 的方式就可以获取到对应的Bar数据。\n",
    "    logger.info(bar_dict[context.s1])\n",
    "\n",
    "# after_trading函数会在每天交易结束后被调用，当天只会被调用一次\n",
    "def after_trading(context):\n",
    "    logger.info(\"收盘后执行after_trading函数\")"
   ]
  },
  {
   "cell_type": "markdown",
   "metadata": {},
   "source": [
    "常用数据接口\n",
    "\n",
    "all_instruments() : 获取所有合约基础信息数据\n",
    "instruments() : 获取合约详细数据\n",
    "history_bars() : 获取某一合约的历史数据\n",
    "current_snapshot() : 获取当前快照数据\n",
    "get_future_contracts() : 获取期货可以交易合约列表\n",
    "get_trading_dates(): 获取交易日列表\n",
    "get_previous_trading_date() : 获取上一日交易日\n",
    "get_next_trading_date() : 获取下一个交易日\n",
    "get_yield_curve(): 获取收益率曲线\n",
    "is_suspended() : 判断某股票当天是否停牌\n",
    "is_st_stock() : 判断某股票是否为 *st"
   ]
  },
  {
   "cell_type": "markdown",
   "metadata": {},
   "source": [
    "常用交易接口\n",
    "\n",
    "order_shares(): 【股票专用】指定股数交易\n",
    "order_lots(): 【股票专用】指定手数交易\n",
    "order_value(): 【股票专用】指定价值交易\n",
    "order_percent():【股票专用】 一定比例下单\n",
    "order_target_value(): 【股票专用】按照目标价值下单\n",
    "order_target_percent(): 【股票专用】按照目标比例下单\n",
    "buy_open(): 【期货专用】买开\n",
    "sell_close():【期货专用】 平买仓\n",
    "sell_open(): 【期货专用】卖开\n",
    "buy_close(): 【期货专用】平卖仓\n",
    "cancel_order(): 撤单\n",
    "get_open_orders(): 获取未成交订单数据"
   ]
  }
 ],
 "metadata": {
  "kernelspec": {
   "display_name": "py310",
   "language": "python",
   "name": "python3"
  },
  "language_info": {
   "codemirror_mode": {
    "name": "ipython",
    "version": 3
   },
   "file_extension": ".py",
   "mimetype": "text/x-python",
   "name": "python",
   "nbconvert_exporter": "python",
   "pygments_lexer": "ipython3",
   "version": "3.10.15"
  }
 },
 "nbformat": 4,
 "nbformat_minor": 2
}
