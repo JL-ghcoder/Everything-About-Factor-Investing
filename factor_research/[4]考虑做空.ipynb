{
 "cells": [
  {
   "cell_type": "code",
   "execution_count": null,
   "metadata": {},
   "outputs": [],
   "source": [
    "# 我们需要对Broker类进行进一步的改进，以允许对每个标的进行买入（做多）和卖出（做空）操作。\n",
    "# 同时，我们也需要记录每个持仓的买卖类型（多头或空头），并在计算市值时对空头持仓进行相应的处理。"
   ]
  },
  {
   "cell_type": "code",
   "execution_count": null,
   "metadata": {},
   "outputs": [],
   "source": [
    "class Broker:\n",
    "    def __init__(self, cash: float):\n",
    "        self.cash = cash\n",
    "        self.positions = {}\n",
    "        self.position_values = {}\n",
    "        self.trades = []\n",
    "\n",
    "    def buy(self, symbol, price, quantity):\n",
    "        # 做多一定数量的标的\n",
    "        self._process_order(symbol, price, quantity)\n",
    "\n",
    "    def sell(self, symbol, price, quantity):\n",
    "        # 做空一定数量的标的\n",
    "        self._process_order(symbol, price, -quantity)  # 用负数表示做空\n",
    "\n",
    "    # 把订单处理全部交给这个函数\n",
    "    def _process_order(self, symbol, price, quantity):\n",
    "        # 如果要处理的标的没有持仓，则先创建持仓\n",
    "        if symbol not in self.positions:\n",
    "            self.positions[symbol] = 0\n",
    "        # 否则，更新持仓数量\n",
    "        self.positions[symbol] += quantity\n",
    "\n",
    "        cost = price * abs(quantity)\n",
    "\n",
    "        if quantity > 0:  # 做多\n",
    "            if self.cash >= cost: # 钱够\n",
    "                self.cash -= cost\n",
    "                self.trades.append((symbol, 'BUY', quantity, price))\n",
    "        else:  # 做空\n",
    "            self.cash += cost  # 假设保证金等机制，先获得卖出收益（可以类比多头仓位平仓）\n",
    "            self.trades.append((symbol, 'SELL', quantity, price))\n",
    "    \n",
    "    def update_position_value(self, symbol, price):\n",
    "        if symbol in self.positions:\n",
    "            # 做空时，市值的计算需要使用初始卖出时的价格减去当前价格的差值\n",
    "            position = self.positions[symbol]\n",
    "            if position > 0:  # 多头持仓\n",
    "                self.position_values[symbol] = position * price\n",
    "            else:  # 空头持仓\n",
    "                # 假设空头持仓时记录了一个初始卖出价格，这里简化处理使用最后一次交易价格\n",
    "                last_sell_price = next(trade[3] for trade in reversed(self.trades) if trade[0] == symbol)\n",
    "                self.position_values[symbol] = abs(position) * (last_sell_price - price)\n",
    "\n",
    "    def result(self):\n",
    "        total_position_value = sum(self.position_values.values())\n",
    "        return self.cash + total_position_value"
   ]
  }
 ],
 "metadata": {
  "kernelspec": {
   "display_name": "py310",
   "language": "python",
   "name": "python3"
  },
  "language_info": {
   "name": "python",
   "version": "3.10.15"
  }
 },
 "nbformat": 4,
 "nbformat_minor": 2
}
