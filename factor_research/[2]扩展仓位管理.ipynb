{
 "cells": [
  {
   "cell_type": "code",
   "execution_count": 14,
   "metadata": {},
   "outputs": [],
   "source": [
    "# 增加仓位管理：通过修改Broker类增加资金管理与仓位控制的机制\n",
    "# 计算最终收益：根据交易历史与持有仓位计算回测结束时的累计收益"
   ]
  },
  {
   "cell_type": "code",
   "execution_count": 15,
   "metadata": {},
   "outputs": [],
   "source": [
    "import pandas as pd\n",
    "import numpy as np\n",
    "from abc import ABC, abstractmethod\n",
    "from typing import Type"
   ]
  },
  {
   "cell_type": "code",
   "execution_count": 16,
   "metadata": {},
   "outputs": [],
   "source": [
    "class Strategy(ABC):\n",
    "    def __init__(self, broker, data):\n",
    "        self.broker = broker\n",
    "        self.data = data\n",
    "\n",
    "    @abstractmethod\n",
    "    def init(self):\n",
    "        pass\n",
    "    \n",
    "    @abstractmethod\n",
    "    def next(self, bar):\n",
    "        pass\n",
    "\n",
    "class Broker:\n",
    "    def __init__(self, cash: float):\n",
    "        self.cash = cash # 现金\n",
    "        self.position = 0 # 持仓仓位\n",
    "        self.position_value = 0 # 持仓价值\n",
    "        self.trades = [] # 交易记录\n",
    "\n",
    "    def buy(self, price):\n",
    "        if self.cash > 0:  # 简化处理，全部资金买入\n",
    "            self.position = self.cash / price  # 计算买入仓位大小\n",
    "            self.position_value = self.position * price  # 计算持仓价值\n",
    "\n",
    "            self.cash = self.cash - self.position_value\n",
    "            self.trades.append(('BUY', self.position, price))\n",
    "    \n",
    "    def sell(self, price):\n",
    "        if self.position > 0:  # 持有仓位，则全部卖出\n",
    "            self.cash = self.cash + self.position * price  # 计算卖出后的现金\n",
    "            self.trades.append(('SELL', self.position, price))\n",
    "            self.position = 0\n",
    "            self.position_value = 0\n",
    "\n",
    "    def update_position_value(self, price):\n",
    "        # 持仓价值=现在的仓位*最新价格\n",
    "        self.position_value = self.position * price\n",
    "\n",
    "    def result(self):\n",
    "        return self.cash + self.position_value\n",
    "\n",
    "class Backtest:\n",
    "    def __init__(self, data: pd.DataFrame, strategy: Type[Strategy], cash: float = 10_000):\n",
    "        self.strategy = strategy\n",
    "        self.data = data\n",
    "        self.broker = Broker(cash)\n",
    "\n",
    "    def run(self):\n",
    "        strategy = self.strategy(self.broker, self.data)\n",
    "        strategy.init()\n",
    "        \n",
    "        for i in range(len(self.data)):\n",
    "            strategy.next(i)\n",
    "            # 通过update_position_value每一天都更新一道持仓价值\n",
    "            self.broker.update_position_value(self.data['Close'].iloc[i])\n",
    "        \n",
    "        return self.broker.result(), self.broker.trades"
   ]
  },
  {
   "cell_type": "code",
   "execution_count": null,
   "metadata": {},
   "outputs": [],
   "source": []
  },
  {
   "cell_type": "code",
   "execution_count": 17,
   "metadata": {},
   "outputs": [
    {
     "name": "stdout",
     "output_type": "stream",
     "text": [
      "Final Result: $9871.99\n",
      "Trades: [('BUY', 196.87219019581974, 50.79437573205976), ('SELL', 196.87219019581974, 51.0401576073225), ('BUY', 196.4142518605342, 51.15915734683227), ('SELL', 196.4142518605342, 51.03486776600187), ('BUY', 195.64535861387165, 51.23543661898979), ('SELL', 195.64535861387165, 51.06696353222703), ('BUY', 195.02653995890992, 51.22899886184242), ('SELL', 195.02653995890992, 51.17645439420683), ('BUY', 194.85211396175487, 51.22226608137345), ('SELL', 194.85211396175487, 50.87895291356166), ('BUY', 193.0264669271383, 51.36016676464511), ('SELL', 193.0264669271383, 51.01852159102574), ('BUY', 194.3465260981272, 50.67198868061742), ('SELL', 194.3465260981272, 50.957016757180035), ('BUY', 193.77198055240058, 51.10810736851555), ('SELL', 193.77198055240058, 50.86900133386499), ('BUY', 193.5149420895431, 50.936568673982336), ('SELL', 193.5149420895431, 51.06101293980262), ('BUY', 193.74256317427475, 51.001023214455586), ('SELL', 193.74256317427475, 50.95416618301184)]\n"
     ]
    }
   ],
   "source": [
    "# 示例策略\n",
    "class SmaCross(Strategy):\n",
    "    def init(self):\n",
    "        self.sma1 = self.data['Close'].rolling(10).mean()\n",
    "        self.sma2 = self.data['Close'].rolling(20).mean()\n",
    "\n",
    "    def next(self, bar):\n",
    "        if bar == 0: return\n",
    "        if self.sma1.iloc[bar] > self.sma2.iloc[bar] and self.sma1.iloc[bar-1] <= self.sma2.iloc[bar-1]:\n",
    "            self.broker.buy(price=self.data[\"Close\"].iloc[bar])\n",
    "        elif self.sma1.iloc[bar] < self.sma2.iloc[bar] and self.sma1.iloc[bar-1] >= self.sma2.iloc[bar-1]:\n",
    "            self.broker.sell(price=self.data[\"Close\"].iloc[bar])\n",
    "\n",
    "# 模拟数据\n",
    "np.random.seed(42)  # 保证可复现性\n",
    "data = pd.DataFrame({'Close': np.random.lognormal(mean=0.0, sigma=0.2, size=100) + 50})\n",
    "\n",
    "bt = Backtest(data, SmaCross)\n",
    "final_result, trades = bt.run()\n",
    "print(f\"Final Result: ${final_result:.2f}\")\n",
    "print(\"Trades:\", trades)"
   ]
  }
 ],
 "metadata": {
  "kernelspec": {
   "display_name": "py310",
   "language": "python",
   "name": "python3"
  },
  "language_info": {
   "codemirror_mode": {
    "name": "ipython",
    "version": 3
   },
   "file_extension": ".py",
   "mimetype": "text/x-python",
   "name": "python",
   "nbconvert_exporter": "python",
   "pygments_lexer": "ipython3",
   "version": "3.10.15"
  }
 },
 "nbformat": 4,
 "nbformat_minor": 2
}
